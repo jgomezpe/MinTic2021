{
  "nbformat": 4,
  "nbformat_minor": 0,
  "metadata": {
    "colab": {
      "name": "ElDespertarProgramador.ipynb",
      "provenance": [],
      "toc_visible": true,
      "authorship_tag": "ABX9TyMf3HUFfbZRAXXRusw5J367",
      "include_colab_link": true
    },
    "kernelspec": {
      "name": "python3",
      "display_name": "Python 3"
    },
    "language_info": {
      "name": "python"
    }
  },
  "cells": [
    {
      "cell_type": "markdown",
      "metadata": {
        "id": "view-in-github",
        "colab_type": "text"
      },
      "source": [
        "<a href=\"https://colab.research.google.com/github/jgomezpe/MinTic2021/blob/main/ElDespertarProgramador.ipynb\" target=\"_parent\"><img src=\"https://colab.research.google.com/assets/colab-badge.svg\" alt=\"Open In Colab\"/></a>"
      ]
    },
    {
      "cell_type": "markdown",
      "metadata": {
        "id": "8pCdHVdYV65Z"
      },
      "source": [
        "# Triqui"
      ]
    },
    {
      "cell_type": "code",
      "metadata": {
        "id": "997mpdvDWOpP"
      },
      "source": [
        "import random\n",
        "\n",
        "#Imprime el tablero de triqui\n",
        "def imprimir(A):\n",
        "  for i in range(len(A)):\n",
        "    if i>0:\n",
        "      print('-+-+-')\n",
        "    for j in range(len(A[i])):\n",
        "      if j>0:\n",
        "        print('|',end='')\n",
        "      print(A[i][j],end='')\n",
        "    print()\n",
        "  print('================')\n",
        "\n",
        "# Crea el tablero incial de triqui\n",
        "def inicial():\n",
        "  return [[' ',' ',' '],[' ',' ',' '],[' ',' ',' ']]\n",
        "\n",
        "# Determina las casillas que están vacias en el tablero\n",
        "def vacias(A):\n",
        "  v = []\n",
        "  for i in range(3):\n",
        "    for j in range(3):\n",
        "      if A[i][j]==' ':\n",
        "        v.append((i,j))\n",
        "  return v\n",
        "\n",
        "# Calcula el movimiento del jugador\n",
        "def jugar(A, jugador):\n",
        "  v = vacias(A)\n",
        "  i,j = v[random.randrange(len(v))] # de manera aleatoria\n",
        "  A[i][j] = jugador\n",
        "  return A\n",
        "\n",
        "# Determina si el jugador ganó o no\n",
        "def ganador(A, jugador):\n",
        "  # Revisa diagonal principal\n",
        "  if (A[0][0]==jugador and A[1][1]==jugador and A[2][2]==jugador):\n",
        "    return True\n",
        "  # Revisa diagonal contraria  \n",
        "  if (A[0][2]==jugador and A[1][1]==jugador and A[2][0]==jugador):\n",
        "    return True\n",
        "  \n",
        "  for i in range(3):  \n",
        "    # Revisa la i-ésima fila\n",
        "    if (A[i][0]==jugador and A[i][1]==jugador and A[i][2]):\n",
        "      return True\n",
        "    # Revisa la columna i-ésima  \n",
        "    if (A[0][i]==jugador and A[1][i]==jugador and A[2][i]):\n",
        "      return True\n",
        "  return False  \n",
        "\n",
        "# Programa principal\n",
        "def main():\n",
        "  tablero = inicial()\n",
        "  jugador = 'X'\n",
        "  imprimir(tablero)\n",
        "  for i in range(9):\n",
        "    tablero = jugar(tablero,jugador)\n",
        "    imprimir(tablero)\n",
        "    if ganador(tablero,jugador):\n",
        "      print('El ganador es ', jugador)\n",
        "      return \n",
        "    if jugador=='X':\n",
        "      jugador='O'\n",
        "    else:\n",
        "      jugador='X'\n",
        "  print('Empate')\n",
        "\n",
        "main()"
      ],
      "execution_count": null,
      "outputs": []
    },
    {
      "cell_type": "markdown",
      "metadata": {
        "id": "bq-E1aXfVvHl"
      },
      "source": [
        "# Sudoku"
      ]
    },
    {
      "cell_type": "code",
      "metadata": {
        "id": "be8cG4b_VrvO"
      },
      "source": [
        "# Lee el tablero de sudoku\n",
        "def leer():\n",
        "  A = []\n",
        "  for i in range(9):\n",
        "    linea = input()\n",
        "    A.append(list(linea))\n",
        "  return A\n",
        "\n",
        "# Imprime el tablero de sudoku\n",
        "def imprimir(A):\n",
        "  for i in range(len(A)):\n",
        "    if i%3==0:\n",
        "      print('+---+---+---+')\n",
        "    for j in range(len(A[i])):\n",
        "      if j%3==0:\n",
        "        print('|',end='')\n",
        "      if A[i][j]!='0':\n",
        "        print(A[i][j],end='')\n",
        "      else:\n",
        "        print(' ',end='')\n",
        "    print('|')\n",
        "  print('+---+---+---+')\n",
        "\n",
        "# Encuentra la primer casilla vacia de arriba a abajo, izquierda a derecha\n",
        "def casilla_vacia(A):\n",
        "  for i in range(9):\n",
        "    for j in range(9):\n",
        "      if A[i][j] == '0':\n",
        "        return (i,j)\n",
        "  return None\n",
        "\n",
        "# Mira la fila para ver si es posible o no poner el número k en la casilla i,j \n",
        "def valido_en_fila(A, i, j, k):\n",
        "  for m in range(9):\n",
        "    if A[i][m] == k:\n",
        "      return False\n",
        "  return True\n",
        "\n",
        "# Mira la columna para ver si es posible o no poner el número k en la casilla i,j \n",
        "def valido_en_columna(A, i, j, k):\n",
        "  for m in range(9):\n",
        "    if A[m][j] == k:\n",
        "      return False\n",
        "  return True\n",
        "\n",
        "# Mira el recuadro para ver si es posible o no poner el número k en la casilla i,j \n",
        "def valido_en_celda(A, i, j , k):\n",
        "  celda_fila = 3*(i//3)\n",
        "  celda_columna = 3*(j//3)\n",
        "  for n in range(celda_fila,celda_fila+3):\n",
        "    for m in range(celda_columna,celda_columna+3):\n",
        "      if A[n][m] == k:\n",
        "        return False\n",
        "  return True\n",
        "\n",
        "# Mira si es posible poner el número k en la casilla i,j\n",
        "def valido(A,i,j,k):\n",
        "  return valido_en_fila(A,i,j,k) and valido_en_columna(A,i,j,k) and valido_en_celda(A,i,j,k)\n",
        "\n",
        "# Soluciona el sudoku\n",
        "def solucionar(A):\n",
        "  x = casilla_vacia(A)\n",
        "  if x!=None:\n",
        "    i,j = x\n",
        "    for k in range(1,10):\n",
        "      v = str(k)\n",
        "      if valido(A,i,j,v):\n",
        "        A[i][j] = v\n",
        "        solucionar(A)\n",
        "        if casilla_vacia(A)==None:\n",
        "          return A\n",
        "        else:\n",
        "          A[i][j] = '0'\n",
        "  return A\n",
        "\n",
        "# Programa principal\n",
        "imprimir(solucionar(leer()))"
      ],
      "execution_count": null,
      "outputs": []
    },
    {
      "cell_type": "markdown",
      "metadata": {
        "id": "CCquNfWLVGo3"
      },
      "source": [
        "# Sierpinski\n"
      ]
    },
    {
      "cell_type": "code",
      "metadata": {
        "colab": {
          "base_uri": "https://localhost:8080/",
          "height": 269
        },
        "id": "bsCyA2i7RX_q",
        "outputId": "69a01353-ca33-480c-bc3c-d46076ff9546"
      },
      "source": [
        "from IPython.display import clear_output\n",
        "import matplotlib.pyplot as plt\n",
        "from random import randrange\n",
        "from numpy import ones\n",
        "from time import sleep\n",
        "\n",
        "# Tamaño de la imagen a generar\n",
        "N = 300\n",
        "# Valores necesarios\n",
        "# Vertices de la figura\n",
        "VERTICES = [[30,150],[270,30],[270,270]]\n",
        "#VERTICES = [[30,30],[30,270],[270,270],[270,30]]\n",
        "#VERTICES = [[20,150],[120,280],[270,238],[270,62],[120,20]]\n",
        "# Punto inicial en la mitad de la imagen\n",
        "p = [150,150]\n",
        "# Inicia imagen en blanco (1)\n",
        "# Pinta la imagen\n",
        "imagen = ones((N, N))\n",
        "plt.imshow( imagen, cmap='gray', vmin=0, vmax=1)\n",
        "plt.show()\n",
        "clear_output(wait=True)\n",
        "# Genera puntos siguiendo la idea de Sierpinski\n",
        "for i in range(10000):\n",
        "  v = randrange(len(VERTICES))\n",
        "  p[0] = (p[0]+VERTICES[v][0])//2\n",
        "  p[1] = (p[1]+VERTICES[v][1])//2\n",
        "  #p[0] = p[0]*35//100+VERTICES[v][0]*65//100\n",
        "  #p[1] = p[1]*35//100+VERTICES[v][1]*65//100\n",
        "  # Vuelve negro el punto (0 es negro)\n",
        "  imagen[p[0]][p[1]] = 0 \n",
        "# Pinta la imagen final\n",
        "plt.imshow(imagen, cmap='gray', vmin=0, vmax=1)\n",
        "plt.show()\n",
        "clear_output(wait=True)"
      ],
      "execution_count": null,
      "outputs": [
        {
          "output_type": "display_data",
          "data": {
            "image/png": "[encoded data removed]",
            "text/plain": [
              "<Figure size 432x288 with 1 Axes>"
            ]
          },
          "metadata": {
            "tags": [],
            "needs_background": "light"
          }
        }
      ]
    },
    {
      "cell_type": "markdown",
      "metadata": {
        "id": "uJiwJL1_VbTU"
      },
      "source": [
        "# Juego de la Vida"
      ]
    },
    {
      "cell_type": "code",
      "metadata": {
        "id": "3FUsuqQdIqGq"
      },
      "source": [
        "from IPython.display import clear_output\n",
        "import matplotlib.pyplot as plt\n",
        "from random import randrange\n",
        "from numpy import ones\n",
        "from time import sleep\n",
        "\n",
        "def iniciar(SIZE):\n",
        "  imagen = ones((SIZE,SIZE))\n",
        "  for i in range(SIZE*SIZE//10):\n",
        "    x = randrange(SIZE)\n",
        "    y = randrange(SIZE)\n",
        "    imagen[y][x] = 0.0\n",
        "  return imagen\n",
        "\n",
        "def viva(imagen, y, x):\n",
        "  return imagen[y][x] == 0.0\n",
        "\n",
        "def vecinos(imagen, SIZE, y, x):\n",
        "  c = 0\n",
        "  for i in range(-1,2):\n",
        "    vy = (y + i + SIZE)%SIZE\n",
        "    for j in range(-1,2):\n",
        "      vx = (x + j + SIZE)%SIZE\n",
        "      if (y!=vy or x!=vx) and viva(imagen,vy,vx):\n",
        "        c += 1\n",
        "  return c\n",
        "\n",
        "def actualiza(imagen, SIZE):\n",
        "  nueva = imagen.copy()\n",
        "  for y in range(SIZE):\n",
        "    for x in range(SIZE):\n",
        "      c = vecinos(imagen,SIZE,y,x)\n",
        "      if viva(imagen,y,x):\n",
        "        if c<2 or c>3:\n",
        "          nueva[y][x] = 1.0\n",
        "      else:\n",
        "        if c==3:\n",
        "          nueva[y][x] = 0.0\n",
        "  return nueva\n",
        "\n",
        "SIZE = 200\n",
        "imagen = iniciar(SIZE)\n",
        "plt.imshow( imagen, cmap='gray', vmin=0, vmax=1)\n",
        "plt.show()\n",
        "clear_output(wait=True)\n",
        "for i in range(1000):\n",
        "  imagen = actualiza(imagen,SIZE)\n",
        "  plt.imshow( imagen, cmap='gray', vmin=0, vmax=1)\n",
        "  plt.show()\n",
        "  clear_output(wait=True)"
      ],
      "execution_count": null,
      "outputs": []
    },
    {
      "cell_type": "markdown",
      "metadata": {
        "id": "IAWU4eciU-L3"
      },
      "source": [
        ""
      ]
    }
  ]
}